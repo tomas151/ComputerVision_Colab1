{
  "nbformat": 4,
  "nbformat_minor": 0,
  "metadata": {
    "colab": {
      "private_outputs": true,
      "provenance": [],
      "authorship_tag": "ABX9TyNrReDC+gspdLKiz0lX9YPr",
      "include_colab_link": true
    },
    "kernelspec": {
      "name": "python3",
      "display_name": "Python 3"
    },
    "language_info": {
      "name": "python"
    }
  },
  "cells": [
    {
      "cell_type": "markdown",
      "metadata": {
        "id": "view-in-github",
        "colab_type": "text"
      },
      "source": [
        "<a href=\"https://colab.research.google.com/github/tomas151/ComputerVision_Colab1/blob/main/Colab%2BGithub_Practice.ipynb\" target=\"_parent\"><img src=\"https://colab.research.google.com/assets/colab-badge.svg\" alt=\"Open In Colab\"/></a>"
      ]
    },
    {
      "cell_type": "code",
      "execution_count": null,
      "metadata": {
        "id": "PNkwn-nBH4hZ"
      },
      "outputs": [],
      "source": [
        "print(\"Bye Colab and Github!\")"
      ]
    },
    {
      "cell_type": "markdown",
      "source": [
        "#Colab과 Github 연동하기\n",
        "Let's learn how to use Colab and Github together :)\n",
        "원래대로 합니다."
      ],
      "metadata": {
        "id": "kg-z-gp8IYFb"
      }
    }
  ]
}